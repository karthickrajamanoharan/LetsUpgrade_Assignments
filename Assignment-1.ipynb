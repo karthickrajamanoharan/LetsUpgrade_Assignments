{
 "metadata": {
  "language_info": {
   "codemirror_mode": {
    "name": "ipython",
    "version": 3
   },
   "file_extension": ".py",
   "mimetype": "text/x-python",
   "name": "python",
   "nbconvert_exporter": "python",
   "pygments_lexer": "ipython3",
   "version": "3.9.5"
  },
  "orig_nbformat": 2,
  "kernelspec": {
   "name": "python395jvsc74a57bd0182d6d72660921deef0af9279baceff6c46bc4d17636f174c749d3f1ddddc8b6",
   "display_name": "Python 3.9.5 64-bit"
  },
  "metadata": {
   "interpreter": {
    "hash": "182d6d72660921deef0af9279baceff6c46bc4d17636f174c749d3f1ddddc8b6"
   }
  }
 },
 "nbformat": 4,
 "nbformat_minor": 2,
 "cells": [
  {
   "cell_type": "code",
   "execution_count": 16,
   "metadata": {},
   "outputs": [],
   "source": [
    "## Question 1\n",
    "car_list1=['Ferrari','Honda','BMW','Benz','Audi']\n",
    "car_list2=['Suzuki','Lamborghini','Jaguar','Ferrari','BMW']"
   ]
  },
  {
   "cell_type": "code",
   "execution_count": 17,
   "metadata": {},
   "outputs": [
    {
     "output_type": "stream",
     "name": "stdout",
     "text": [
      "['Ferrari', 'BMW']\n"
     ]
    }
   ],
   "source": [
    "## Question 2\n",
    "overlap_car_list=[]\n",
    "for cars in car_list1:\n",
    "    if cars in car_list2:\n",
    "        overlap_car_list.append(cars)\n",
    "print(overlap_car_list)"
   ]
  },
  {
   "cell_type": "code",
   "execution_count": 19,
   "metadata": {},
   "outputs": [
    {
     "output_type": "stream",
     "name": "stdout",
     "text": [
      "20\n22\n24\n26\n28\n30\n32\n34\n36\n38\n"
     ]
    }
   ],
   "source": [
    "## Question 3\n",
    "for num in range(20,40):\n",
    "    if num % 2 == 0:\n",
    "        print(num)"
   ]
  },
  {
   "cell_type": "code",
   "execution_count": null,
   "metadata": {},
   "outputs": [],
   "source": []
  }
 ]
}