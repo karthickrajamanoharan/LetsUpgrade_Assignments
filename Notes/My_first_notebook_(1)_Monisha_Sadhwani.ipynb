{
  "nbformat": 4,
  "nbformat_minor": 0,
  "metadata": {
    "colab": {
      "name": "My_first_notebook (1) - Monisha Sadhwani.ipynb",
      "provenance": [],
      "collapsed_sections": []
    },
    "kernelspec": {
      "display_name": "Python 3",
      "name": "python3"
    },
    "language_info": {
      "name": "python"
    }
  },
  "cells": [
    {
      "cell_type": "code",
      "metadata": {
        "id": "k5BIhQwDpvnl"
      },
      "source": [
        "# Monisha Sadhwani\n",
        "# mssadhwani9@gmail.com\n",
        "# https://www.linkedin.com/in/monisha-sadhwani-419435105/"
      ],
      "execution_count": null,
      "outputs": []
    },
    {
      "cell_type": "markdown",
      "metadata": {
        "id": "sufVIbGsaFVe"
      },
      "source": [
        "### Arithmetic Operations"
      ]
    },
    {
      "cell_type": "code",
      "metadata": {
        "colab": {
          "base_uri": "https://localhost:8080/"
        },
        "id": "9YAl13VpiYXG",
        "outputId": "d989896f-947f-4369-e1f8-65bddd0be676"
      },
      "source": [
        "# Python basics - Multiple number operations\n",
        "3+4  # Add"
      ],
      "execution_count": null,
      "outputs": [
        {
          "output_type": "execute_result",
          "data": {
            "text/plain": [
              "7"
            ]
          },
          "metadata": {
            "tags": []
          },
          "execution_count": 2
        }
      ]
    },
    {
      "cell_type": "code",
      "metadata": {
        "colab": {
          "base_uri": "https://localhost:8080/"
        },
        "id": "syELQKAExO2z",
        "outputId": "77e87240-9853-47a9-80a5-62acc2121f3a"
      },
      "source": [
        "3*4  # Multi"
      ],
      "execution_count": null,
      "outputs": [
        {
          "output_type": "execute_result",
          "data": {
            "text/plain": [
              "12"
            ]
          },
          "metadata": {
            "tags": []
          },
          "execution_count": 3
        }
      ]
    },
    {
      "cell_type": "code",
      "metadata": {
        "colab": {
          "base_uri": "https://localhost:8080/"
        },
        "id": "3Sobhh8vxV6o",
        "outputId": "81a85cba-aca9-4ca3-e73e-b596da86f933"
      },
      "source": [
        "3-4  # Sub"
      ],
      "execution_count": null,
      "outputs": [
        {
          "output_type": "execute_result",
          "data": {
            "text/plain": [
              "-1"
            ]
          },
          "metadata": {
            "tags": []
          },
          "execution_count": 4
        }
      ]
    },
    {
      "cell_type": "code",
      "metadata": {
        "id": "Pthfp0_YxXIE",
        "colab": {
          "base_uri": "https://localhost:8080/"
        },
        "outputId": "4b9b8ae7-31fb-4253-e1e2-982991bc5718"
      },
      "source": [
        "3/4  # Division"
      ],
      "execution_count": null,
      "outputs": [
        {
          "output_type": "execute_result",
          "data": {
            "text/plain": [
              "0.75"
            ]
          },
          "metadata": {
            "tags": []
          },
          "execution_count": 5
        }
      ]
    },
    {
      "cell_type": "code",
      "metadata": {
        "id": "YXyd3Xalxbdn",
        "colab": {
          "base_uri": "https://localhost:8080/"
        },
        "outputId": "b088f72f-3aa0-41cf-e25d-92d913222b93"
      },
      "source": [
        "3**4  # Exponent"
      ],
      "execution_count": null,
      "outputs": [
        {
          "output_type": "execute_result",
          "data": {
            "text/plain": [
              "81"
            ]
          },
          "metadata": {
            "tags": []
          },
          "execution_count": 6
        }
      ]
    },
    {
      "cell_type": "code",
      "metadata": {
        "colab": {
          "base_uri": "https://localhost:8080/"
        },
        "id": "73ZDRVOcOKUR",
        "outputId": "c7ec936b-6c4d-4c81-af5f-4da78bb8d620"
      },
      "source": [
        "3%4  # Reminder - Modulus"
      ],
      "execution_count": null,
      "outputs": [
        {
          "output_type": "execute_result",
          "data": {
            "text/plain": [
              "3"
            ]
          },
          "metadata": {
            "tags": []
          },
          "execution_count": 7
        }
      ]
    },
    {
      "cell_type": "code",
      "metadata": {
        "colab": {
          "base_uri": "https://localhost:8080/"
        },
        "id": "Lk-TOApiO5Hc",
        "outputId": "31a5a26c-839c-48d7-a499-7e974888d2ff"
      },
      "source": [
        "3//4  # Quo - Floor division"
      ],
      "execution_count": null,
      "outputs": [
        {
          "output_type": "execute_result",
          "data": {
            "text/plain": [
              "0"
            ]
          },
          "metadata": {
            "tags": []
          },
          "execution_count": 8
        }
      ]
    },
    {
      "cell_type": "markdown",
      "metadata": {
        "id": "5ybcua99h99E"
      },
      "source": [
        "### Comparison Operations"
      ]
    },
    {
      "cell_type": "code",
      "metadata": {
        "id": "MeZguIM6h8Yx"
      },
      "source": [
        "cgpa = 8   # "
      ],
      "execution_count": null,
      "outputs": []
    },
    {
      "cell_type": "code",
      "metadata": {
        "colab": {
          "base_uri": "https://localhost:8080/"
        },
        "id": "iiug_-dLh6-r",
        "outputId": "1082a3c2-5d57-419a-fca4-f64f13e64fd3"
      },
      "source": [
        "cgpa == 10   # Given value is equal to 10"
      ],
      "execution_count": null,
      "outputs": [
        {
          "output_type": "execute_result",
          "data": {
            "text/plain": [
              "False"
            ]
          },
          "metadata": {
            "tags": []
          },
          "execution_count": 10
        }
      ]
    },
    {
      "cell_type": "code",
      "metadata": {
        "colab": {
          "base_uri": "https://localhost:8080/"
        },
        "id": "XBNzB1PLjJeZ",
        "outputId": "3019ec59-2170-4677-f6f3-40548596e4d9"
      },
      "source": [
        "cgpa >= 8    # Given value is greater than 8"
      ],
      "execution_count": null,
      "outputs": [
        {
          "output_type": "execute_result",
          "data": {
            "text/plain": [
              "True"
            ]
          },
          "metadata": {
            "tags": []
          },
          "execution_count": 11
        }
      ]
    },
    {
      "cell_type": "code",
      "metadata": {
        "colab": {
          "base_uri": "https://localhost:8080/"
        },
        "id": "UOE-valGjJBX",
        "outputId": "31efd286-7ff4-4bf6-ac3d-762b607fc0c2"
      },
      "source": [
        "cgpa < 7"
      ],
      "execution_count": null,
      "outputs": [
        {
          "output_type": "execute_result",
          "data": {
            "text/plain": [
              "False"
            ]
          },
          "metadata": {
            "tags": []
          },
          "execution_count": 12
        }
      ]
    },
    {
      "cell_type": "markdown",
      "metadata": {
        "id": "IBeq3YKylUgK"
      },
      "source": [
        "### Assignment operations"
      ]
    },
    {
      "cell_type": "code",
      "metadata": {
        "id": "y9vUu6SRlTOb"
      },
      "source": [
        "variable = \"anything\"   # Assign a string "
      ],
      "execution_count": null,
      "outputs": []
    },
    {
      "cell_type": "code",
      "metadata": {
        "colab": {
          "base_uri": "https://localhost:8080/",
          "height": 35
        },
        "id": "q0-0aggszZyB",
        "outputId": "d1b4ec77-0c35-4ba0-a6c3-b46586ba541c"
      },
      "source": [
        "variable"
      ],
      "execution_count": null,
      "outputs": [
        {
          "output_type": "execute_result",
          "data": {
            "application/vnd.google.colaboratory.intrinsic+json": {
              "type": "string"
            },
            "text/plain": [
              "'anything'"
            ]
          },
          "metadata": {
            "tags": []
          },
          "execution_count": 14
        }
      ]
    },
    {
      "cell_type": "code",
      "metadata": {
        "id": "_9VseND-lfgi"
      },
      "source": [
        "variable = 68   # Assign a numerical number "
      ],
      "execution_count": null,
      "outputs": []
    },
    {
      "cell_type": "code",
      "metadata": {
        "colab": {
          "base_uri": "https://localhost:8080/"
        },
        "id": "zO2yl7hPliU7",
        "outputId": "151ed211-85b7-414b-faae-c4617b93aecb"
      },
      "source": [
        "variable"
      ],
      "execution_count": null,
      "outputs": [
        {
          "output_type": "execute_result",
          "data": {
            "text/plain": [
              "68"
            ]
          },
          "metadata": {
            "tags": []
          },
          "execution_count": 16
        }
      ]
    },
    {
      "cell_type": "code",
      "metadata": {
        "colab": {
          "base_uri": "https://localhost:8080/"
        },
        "id": "a8oghZDglmyY",
        "outputId": "bd58e3a6-eb30-403d-e790-ba5021e88cbb"
      },
      "source": [
        "variable += 2    # variable = variable + 2\n",
        "variable"
      ],
      "execution_count": null,
      "outputs": [
        {
          "output_type": "execute_result",
          "data": {
            "text/plain": [
              "70"
            ]
          },
          "metadata": {
            "tags": []
          },
          "execution_count": 17
        }
      ]
    },
    {
      "cell_type": "code",
      "metadata": {
        "colab": {
          "base_uri": "https://localhost:8080/"
        },
        "id": "pANhrJ-MlniB",
        "outputId": "11bc99c3-fa8c-4e5f-9b49-c3b93fd689fb"
      },
      "source": [
        "variable -=5     # variable = variable - 5\n",
        "variable  "
      ],
      "execution_count": null,
      "outputs": [
        {
          "output_type": "execute_result",
          "data": {
            "text/plain": [
              "65"
            ]
          },
          "metadata": {
            "tags": []
          },
          "execution_count": 18
        }
      ]
    },
    {
      "cell_type": "code",
      "metadata": {
        "colab": {
          "base_uri": "https://localhost:8080/"
        },
        "id": "4rwG-SIRl2Ug",
        "outputId": "210df328-e8a5-40de-a81a-d5d6eeea9df2"
      },
      "source": [
        "variable *= 2    # variable = variable * 2\n",
        "variable"
      ],
      "execution_count": null,
      "outputs": [
        {
          "output_type": "execute_result",
          "data": {
            "text/plain": [
              "130"
            ]
          },
          "metadata": {
            "tags": []
          },
          "execution_count": 19
        }
      ]
    },
    {
      "cell_type": "code",
      "metadata": {
        "colab": {
          "base_uri": "https://localhost:8080/"
        },
        "id": "nyoUi3_InFyY",
        "outputId": "c8eb4a0b-31c0-4328-cefb-e651763a9465"
      },
      "source": [
        "variable /= 3   # variable = variable/3\n",
        "variable"
      ],
      "execution_count": null,
      "outputs": [
        {
          "output_type": "execute_result",
          "data": {
            "text/plain": [
              "43.333333333333336"
            ]
          },
          "metadata": {
            "tags": []
          },
          "execution_count": 20
        }
      ]
    },
    {
      "cell_type": "code",
      "metadata": {
        "colab": {
          "base_uri": "https://localhost:8080/"
        },
        "id": "mTXgk35wpHMS",
        "outputId": "91040388-8ecc-45ef-a091-6b94e3adf0c1"
      },
      "source": [
        "variable //= 2   # variable = variable/2 (Quo)\n",
        "variable"
      ],
      "execution_count": null,
      "outputs": [
        {
          "output_type": "execute_result",
          "data": {
            "text/plain": [
              "21.0"
            ]
          },
          "metadata": {
            "tags": []
          },
          "execution_count": 21
        }
      ]
    },
    {
      "cell_type": "code",
      "metadata": {
        "colab": {
          "base_uri": "https://localhost:8080/"
        },
        "id": "jTAoWMSgnGry",
        "outputId": "8bea0151-021d-4ffc-9f8a-6650d23a3573"
      },
      "source": [
        "variable %= 2   # variable = variable % 2 (Remin)\n",
        "variable"
      ],
      "execution_count": null,
      "outputs": [
        {
          "output_type": "execute_result",
          "data": {
            "text/plain": [
              "1.0"
            ]
          },
          "metadata": {
            "tags": []
          },
          "execution_count": 22
        }
      ]
    },
    {
      "cell_type": "code",
      "metadata": {
        "colab": {
          "base_uri": "https://localhost:8080/"
        },
        "id": "4f20U39nn0pv",
        "outputId": "901bb362-2d91-4fef-a2f9-5308f5e12010"
      },
      "source": [
        "variable **= 3   # variable = variable**2 (Exponents)\n",
        "variable"
      ],
      "execution_count": null,
      "outputs": [
        {
          "output_type": "execute_result",
          "data": {
            "text/plain": [
              "1.0"
            ]
          },
          "metadata": {
            "tags": []
          },
          "execution_count": 23
        }
      ]
    },
    {
      "cell_type": "markdown",
      "metadata": {
        "id": "Gghsd6J5pfhb"
      },
      "source": [
        "### Logical Operations"
      ]
    },
    {
      "cell_type": "code",
      "metadata": {
        "id": "SiVOp2UKpipW"
      },
      "source": [
        "age = 26\n",
        "income = 150000"
      ],
      "execution_count": null,
      "outputs": []
    },
    {
      "cell_type": "code",
      "metadata": {
        "colab": {
          "base_uri": "https://localhost:8080/"
        },
        "id": "f4cpxrDjptmq",
        "outputId": "2f4615b6-fefa-4bca-a24e-cb4bfcaadd3a"
      },
      "source": [
        "(age > 18) and (age < 70)   # AND (&): Both condition should get satisfy"
      ],
      "execution_count": null,
      "outputs": [
        {
          "output_type": "execute_result",
          "data": {
            "text/plain": [
              "True"
            ]
          },
          "metadata": {
            "tags": []
          },
          "execution_count": 25
        }
      ]
    },
    {
      "cell_type": "code",
      "metadata": {
        "colab": {
          "base_uri": "https://localhost:8080/"
        },
        "id": "_iUcjqkZqljN",
        "outputId": "12f12118-6322-4763-9ece-b0de15a4b8ad"
      },
      "source": [
        "(age < 18) or (income > 5000)   # OR (|): Atleast one condition should get satisfy"
      ],
      "execution_count": null,
      "outputs": [
        {
          "output_type": "execute_result",
          "data": {
            "text/plain": [
              "True"
            ]
          },
          "metadata": {
            "tags": []
          },
          "execution_count": 26
        }
      ]
    },
    {
      "cell_type": "code",
      "metadata": {
        "colab": {
          "base_uri": "https://localhost:8080/"
        },
        "id": "lnvG3tQssRLN",
        "outputId": "7491c4af-2710-4969-ded0-b54644411551"
      },
      "source": [
        "not age > 18     # NOT : Opposite of given condition  "
      ],
      "execution_count": null,
      "outputs": [
        {
          "output_type": "execute_result",
          "data": {
            "text/plain": [
              "False"
            ]
          },
          "metadata": {
            "tags": []
          },
          "execution_count": 27
        }
      ]
    },
    {
      "cell_type": "markdown",
      "metadata": {
        "id": "srskU4HvheXT"
      },
      "source": [
        "### Text Type"
      ]
    },
    {
      "cell_type": "code",
      "metadata": {
        "id": "rD5v0HhCVXAL"
      },
      "source": [
        " # Data types\n",
        " # 1. Text Type (string)\n",
        " name = \"123\""
      ],
      "execution_count": null,
      "outputs": []
    },
    {
      "cell_type": "code",
      "metadata": {
        "colab": {
          "base_uri": "https://localhost:8080/",
          "height": 35
        },
        "id": "IaK37OGxgLaj",
        "outputId": "c7dca0af-a8fd-41cf-9aec-54a826c65edb"
      },
      "source": [
        "name"
      ],
      "execution_count": null,
      "outputs": [
        {
          "output_type": "execute_result",
          "data": {
            "application/vnd.google.colaboratory.intrinsic+json": {
              "type": "string"
            },
            "text/plain": [
              "'123'"
            ]
          },
          "metadata": {
            "tags": []
          },
          "execution_count": 70
        }
      ]
    },
    {
      "cell_type": "code",
      "metadata": {
        "colab": {
          "base_uri": "https://localhost:8080/"
        },
        "id": "tZg_27X5gOYF",
        "outputId": "4a2a4826-0311-4c5d-ced3-0982614c6a7d"
      },
      "source": [
        "type(name)   # Text Type (string)"
      ],
      "execution_count": null,
      "outputs": [
        {
          "output_type": "execute_result",
          "data": {
            "text/plain": [
              "str"
            ]
          },
          "metadata": {
            "tags": []
          },
          "execution_count": 71
        }
      ]
    },
    {
      "cell_type": "markdown",
      "metadata": {
        "id": "xtRI0lzDhHDP"
      },
      "source": [
        "### Numeric Type"
      ]
    },
    {
      "cell_type": "code",
      "metadata": {
        "id": "wAgv20qHgSm8"
      },
      "source": [
        "# 2. Numeric Type (int, float) \n",
        "num_1 = 10  # int -> float\n",
        "num_2 = 13.3  # float -> int\n",
        "str_x = \"57.8\"  # str -> float -> int"
      ],
      "execution_count": null,
      "outputs": []
    },
    {
      "cell_type": "code",
      "metadata": {
        "colab": {
          "base_uri": "https://localhost:8080/"
        },
        "id": "-fyjKxDmgsmu",
        "outputId": "316d9913-2f8e-4d6c-b61c-d720149bdd68"
      },
      "source": [
        "type(num_1), type(num_2), type(str_x)    # check data type of each variable"
      ],
      "execution_count": null,
      "outputs": [
        {
          "output_type": "execute_result",
          "data": {
            "text/plain": [
              "(int, float, str)"
            ]
          },
          "metadata": {
            "tags": []
          },
          "execution_count": 73
        }
      ]
    },
    {
      "cell_type": "code",
      "metadata": {
        "colab": {
          "base_uri": "https://localhost:8080/"
        },
        "id": "iS2uf2Gd1dvP",
        "outputId": "7e946ee4-8ca1-447a-c6d4-61c5d255c84a"
      },
      "source": [
        "float(num_1)   # Converts int to float"
      ],
      "execution_count": null,
      "outputs": [
        {
          "output_type": "execute_result",
          "data": {
            "text/plain": [
              "10.0"
            ]
          },
          "metadata": {
            "tags": []
          },
          "execution_count": 74
        }
      ]
    },
    {
      "cell_type": "code",
      "metadata": {
        "colab": {
          "base_uri": "https://localhost:8080/"
        },
        "id": "FRVWaK1F10xr",
        "outputId": "4e9872b4-cd4a-4da0-b497-e6f2d3e98a80"
      },
      "source": [
        "int(num_2)     # Converts float to integer"
      ],
      "execution_count": null,
      "outputs": [
        {
          "output_type": "execute_result",
          "data": {
            "text/plain": [
              "13"
            ]
          },
          "metadata": {
            "tags": []
          },
          "execution_count": 75
        }
      ]
    },
    {
      "cell_type": "code",
      "metadata": {
        "colab": {
          "base_uri": "https://localhost:8080/",
          "height": 35
        },
        "id": "_TlKPXHF101S",
        "outputId": "3b6722c5-0769-4512-a4a3-0a9107b7f2b8"
      },
      "source": [
        "str_x"
      ],
      "execution_count": null,
      "outputs": [
        {
          "output_type": "execute_result",
          "data": {
            "application/vnd.google.colaboratory.intrinsic+json": {
              "type": "string"
            },
            "text/plain": [
              "'57.8'"
            ]
          },
          "metadata": {
            "tags": []
          },
          "execution_count": 76
        }
      ]
    },
    {
      "cell_type": "code",
      "metadata": {
        "colab": {
          "base_uri": "https://localhost:8080/"
        },
        "id": "bbferPkS10-h",
        "outputId": "d2ef2db4-e3cb-4fd0-8b5f-0f284552347a"
      },
      "source": [
        "# Convert numerical string to float\n",
        "float(str_x)   "
      ],
      "execution_count": null,
      "outputs": [
        {
          "output_type": "execute_result",
          "data": {
            "text/plain": [
              "57.8"
            ]
          },
          "metadata": {
            "tags": []
          },
          "execution_count": 78
        }
      ]
    },
    {
      "cell_type": "code",
      "metadata": {
        "colab": {
          "base_uri": "https://localhost:8080/"
        },
        "id": "EZx4-VnR10D5",
        "outputId": "cd585a6e-b9a0-4b61-d275-02a110686104"
      },
      "source": [
        "# Covert string to int\n",
        "int(float(str_x))"
      ],
      "execution_count": null,
      "outputs": [
        {
          "output_type": "execute_result",
          "data": {
            "text/plain": [
              "57"
            ]
          },
          "metadata": {
            "tags": []
          },
          "execution_count": 37
        }
      ]
    },
    {
      "cell_type": "markdown",
      "metadata": {
        "id": "BaU6TF0KumZF"
      },
      "source": [
        "### List - Stores items which can be used with help of index or loop"
      ]
    },
    {
      "cell_type": "code",
      "metadata": {
        "id": "PSKV1FVVgwCl"
      },
      "source": [
        "list_of_names = [\"Hir\", \"Jai\", \"Rahul\", \"Rachel!\"]"
      ],
      "execution_count": null,
      "outputs": []
    },
    {
      "cell_type": "code",
      "metadata": {
        "colab": {
          "base_uri": "https://localhost:8080/"
        },
        "id": "hhpn9IL3hL98",
        "outputId": "715b3eb3-dafe-4fd9-8f73-af2dcfe59509"
      },
      "source": [
        "type(list_of_names)"
      ],
      "execution_count": null,
      "outputs": [
        {
          "output_type": "execute_result",
          "data": {
            "text/plain": [
              "list"
            ]
          },
          "metadata": {
            "tags": []
          },
          "execution_count": 39
        }
      ]
    },
    {
      "cell_type": "code",
      "metadata": {
        "colab": {
          "base_uri": "https://localhost:8080/"
        },
        "id": "3q3hKArivB1y",
        "outputId": "4500c49e-fa06-48d9-81a9-293c3e352644"
      },
      "source": [
        "list_of_names"
      ],
      "execution_count": null,
      "outputs": [
        {
          "output_type": "execute_result",
          "data": {
            "text/plain": [
              "['Hir', 'Jai', 'Rahul', 'Rachel!']"
            ]
          },
          "metadata": {
            "tags": []
          },
          "execution_count": 40
        }
      ]
    },
    {
      "cell_type": "code",
      "metadata": {
        "colab": {
          "base_uri": "https://localhost:8080/",
          "height": 35
        },
        "id": "mi0hquZPvpme",
        "outputId": "67ab0b09-823c-4ab7-9831-1b53f2bfe5e6"
      },
      "source": [
        "# Python index always start with 0\n",
        "list_of_names[0]     "
      ],
      "execution_count": null,
      "outputs": [
        {
          "output_type": "execute_result",
          "data": {
            "application/vnd.google.colaboratory.intrinsic+json": {
              "type": "string"
            },
            "text/plain": [
              "'Hir'"
            ]
          },
          "metadata": {
            "tags": []
          },
          "execution_count": 81
        }
      ]
    },
    {
      "cell_type": "code",
      "metadata": {
        "colab": {
          "base_uri": "https://localhost:8080/",
          "height": 35
        },
        "id": "YlNq_uLxv020",
        "outputId": "584359b2-06e7-4ad7-e1ea-bd1d9905a8c9"
      },
      "source": [
        "# index 1: Position is 2nd\n",
        "list_of_names[1]     "
      ],
      "execution_count": null,
      "outputs": [
        {
          "output_type": "execute_result",
          "data": {
            "application/vnd.google.colaboratory.intrinsic+json": {
              "type": "string"
            },
            "text/plain": [
              "'Jai'"
            ]
          },
          "metadata": {
            "tags": []
          },
          "execution_count": 42
        }
      ]
    },
    {
      "cell_type": "code",
      "metadata": {
        "colab": {
          "base_uri": "https://localhost:8080/",
          "height": 35
        },
        "id": "AHjJOBYvv3d5",
        "outputId": "46156ee7-c211-4417-f01e-515ef7b40f5e"
      },
      "source": [
        "# Last number: Negative sign starts numbering from last \n",
        "list_of_names[-1]    "
      ],
      "execution_count": null,
      "outputs": [
        {
          "output_type": "execute_result",
          "data": {
            "application/vnd.google.colaboratory.intrinsic+json": {
              "type": "string"
            },
            "text/plain": [
              "'Rachel!'"
            ]
          },
          "metadata": {
            "tags": []
          },
          "execution_count": 43
        }
      ]
    },
    {
      "cell_type": "code",
      "metadata": {
        "colab": {
          "base_uri": "https://localhost:8080/"
        },
        "id": "BTPJiTgsv8nt",
        "outputId": "1e4f7e85-ab68-4128-fbfc-a03122ba2a3e"
      },
      "source": [
        "# All values upto 2nd index (excluding)\n",
        "list_of_names[:2]    "
      ],
      "execution_count": null,
      "outputs": [
        {
          "output_type": "execute_result",
          "data": {
            "text/plain": [
              "['Hir', 'Jai']"
            ]
          },
          "metadata": {
            "tags": []
          },
          "execution_count": 44
        }
      ]
    },
    {
      "cell_type": "code",
      "metadata": {
        "colab": {
          "base_uri": "https://localhost:8080/"
        },
        "id": "IVdIoXa8wjyP",
        "outputId": "dacd707b-7863-413f-c895-41bfe7599515"
      },
      "source": [
        "# All values after 2nd index (including)\n",
        "list_of_names[2:]    "
      ],
      "execution_count": null,
      "outputs": [
        {
          "output_type": "execute_result",
          "data": {
            "text/plain": [
              "['Rahul', 'Rachel!']"
            ]
          },
          "metadata": {
            "tags": []
          },
          "execution_count": 45
        }
      ]
    },
    {
      "cell_type": "code",
      "metadata": {
        "colab": {
          "base_uri": "https://localhost:8080/"
        },
        "id": "_Ljnl5YtvD2w",
        "outputId": "99a9c966-e2ad-4831-f6e8-0a677b335668"
      },
      "source": [
        "# Add more names or list\n",
        "list_of_names + [\"Piyu\", \"Magda\"]   "
      ],
      "execution_count": null,
      "outputs": [
        {
          "output_type": "execute_result",
          "data": {
            "text/plain": [
              "['Hir', 'Jai', 'Rahul', 'Rachel!', 'Piyu', 'Magda']"
            ]
          },
          "metadata": {
            "tags": []
          },
          "execution_count": 46
        }
      ]
    },
    {
      "cell_type": "code",
      "metadata": {
        "colab": {
          "base_uri": "https://localhost:8080/"
        },
        "id": "xsWRRe3O19Ec",
        "outputId": "981db363-4677-4df6-e195-4ef906350033"
      },
      "source": [
        "# Number of elements in list\n",
        "len(list_of_names)   "
      ],
      "execution_count": null,
      "outputs": [
        {
          "output_type": "execute_result",
          "data": {
            "text/plain": [
              "4"
            ]
          },
          "metadata": {
            "tags": []
          },
          "execution_count": 47
        }
      ]
    },
    {
      "cell_type": "code",
      "metadata": {
        "colab": {
          "base_uri": "https://localhost:8080/"
        },
        "id": "PdmOQEHz2meq",
        "outputId": "71cbe73e-e0c5-4ca4-fc34-4d2b81d517ea"
      },
      "source": [
        "# Add more names or list (Concatenation of list)\n",
        "list_of_names = list_of_names + [\"Piyu\", \"Magda\"]   \n",
        "len(list_of_names)"
      ],
      "execution_count": null,
      "outputs": [
        {
          "output_type": "execute_result",
          "data": {
            "text/plain": [
              "6"
            ]
          },
          "metadata": {
            "tags": []
          },
          "execution_count": 48
        }
      ]
    },
    {
      "cell_type": "code",
      "metadata": {
        "colab": {
          "base_uri": "https://localhost:8080/"
        },
        "id": "4OiU7SEG8b_x",
        "outputId": "e4b5da3d-ce21-4eaf-987b-f21bfb39bc9d"
      },
      "source": [
        "\"Jai\" in list_of_names   # Check within list using \"in\" operator"
      ],
      "execution_count": null,
      "outputs": [
        {
          "output_type": "execute_result",
          "data": {
            "text/plain": [
              "True"
            ]
          },
          "metadata": {
            "tags": []
          },
          "execution_count": 49
        }
      ]
    },
    {
      "cell_type": "code",
      "metadata": {
        "colab": {
          "base_uri": "https://localhost:8080/"
        },
        "id": "EzJMb1Oj8h2E",
        "outputId": "0b726b3e-7eff-466b-a462-e3d3af228a90"
      },
      "source": [
        "\"Jay\" in list_of_names"
      ],
      "execution_count": null,
      "outputs": [
        {
          "output_type": "execute_result",
          "data": {
            "text/plain": [
              "False"
            ]
          },
          "metadata": {
            "tags": []
          },
          "execution_count": 50
        }
      ]
    },
    {
      "cell_type": "code",
      "metadata": {
        "colab": {
          "base_uri": "https://localhost:8080/"
        },
        "id": "SrnDGJp96CJ3",
        "outputId": "b836d76f-5d52-4912-eaf4-dad2d51e1b88"
      },
      "source": [
        "# Get list starting from index 1 to 4\n",
        "list_of_names[1:5]"
      ],
      "execution_count": null,
      "outputs": [
        {
          "output_type": "execute_result",
          "data": {
            "text/plain": [
              "['Jai', 'Rahul', 'Rachel!', 'Piyu']"
            ]
          },
          "metadata": {
            "tags": []
          },
          "execution_count": 51
        }
      ]
    },
    {
      "cell_type": "code",
      "metadata": {
        "colab": {
          "base_uri": "https://localhost:8080/"
        },
        "id": "zaFl3LOv6vMQ",
        "outputId": "b5e7b562-22b6-4cb5-8e33-f24393966f8a"
      },
      "source": [
        "# Replace value using position\n",
        "list_of_names[2] = \"Monisha\"   # New list with changes\n",
        "list_of_names"
      ],
      "execution_count": null,
      "outputs": [
        {
          "output_type": "execute_result",
          "data": {
            "text/plain": [
              "['Hir', 'Jai', 'Monisha', 'Rachel!', 'Piyu', 'Magda']"
            ]
          },
          "metadata": {
            "tags": []
          },
          "execution_count": 52
        }
      ]
    },
    {
      "cell_type": "code",
      "metadata": {
        "colab": {
          "base_uri": "https://localhost:8080/"
        },
        "id": "oNXDLXM_-NhW",
        "outputId": "41d611fb-0cf5-481d-988d-45ec0e99b72d"
      },
      "source": [
        " #  Sort list in alphabetical order\n",
        "sorted(list_of_names, reverse=True)   "
      ],
      "execution_count": null,
      "outputs": [
        {
          "output_type": "execute_result",
          "data": {
            "text/plain": [
              "['Rachel!', 'Piyu', 'Monisha', 'Magda', 'Jai', 'Hir']"
            ]
          },
          "metadata": {
            "tags": []
          },
          "execution_count": 82
        }
      ]
    },
    {
      "cell_type": "code",
      "metadata": {
        "id": "nACe9WfW2ywD"
      },
      "source": [
        "# list of numbers\n",
        "list_of_numbers = [3, 7, 1, 0, 15, 71, 99, 31, 45, 93, 77, 39, 63, 51, 7]   "
      ],
      "execution_count": null,
      "outputs": []
    },
    {
      "cell_type": "code",
      "metadata": {
        "colab": {
          "base_uri": "https://localhost:8080/"
        },
        "id": "KPWoFw4m3BKw",
        "outputId": "31606c27-e75b-4296-dbe5-ebff59ae0567"
      },
      "source": [
        "# Min value in list\n",
        "youngest = min(list_of_numbers)\n",
        "print (\"Age of youngest person: \", youngest)"
      ],
      "execution_count": null,
      "outputs": [
        {
          "output_type": "stream",
          "text": [
            "Age of youngest person:  0\n"
          ],
          "name": "stdout"
        }
      ]
    },
    {
      "cell_type": "code",
      "metadata": {
        "colab": {
          "base_uri": "https://localhost:8080/"
        },
        "id": "sk8ku9zl3PRh",
        "outputId": "4b187132-cf3e-4aee-e48e-1827802e55c2"
      },
      "source": [
        "# max value in list\n",
        "oldest = max(list_of_numbers)\n",
        "print (\"Age of oldest person: \", oldest)"
      ],
      "execution_count": null,
      "outputs": [
        {
          "output_type": "stream",
          "text": [
            "Age of oldest person:  99\n"
          ],
          "name": "stdout"
        }
      ]
    },
    {
      "cell_type": "code",
      "metadata": {
        "colab": {
          "base_uri": "https://localhost:8080/"
        },
        "id": "wbpjRR5m6dqo",
        "outputId": "a744579e-f470-4506-f493-57067bb2782c"
      },
      "source": [
        "# Summation of numbers\n",
        "sum(list_of_numbers)"
      ],
      "execution_count": null,
      "outputs": [
        {
          "output_type": "execute_result",
          "data": {
            "text/plain": [
              "588"
            ]
          },
          "metadata": {
            "tags": []
          },
          "execution_count": 57
        }
      ]
    },
    {
      "cell_type": "markdown",
      "metadata": {
        "id": "KyjVRMudvZVz"
      },
      "source": [
        "### Tuple - Similar to list, but items can't be modified"
      ]
    },
    {
      "cell_type": "code",
      "metadata": {
        "id": "CmLjD32lvNCj"
      },
      "source": [
        "tuples = (\"abc\", \"123\", \"xyz\")"
      ],
      "execution_count": null,
      "outputs": []
    },
    {
      "cell_type": "code",
      "metadata": {
        "colab": {
          "base_uri": "https://localhost:8080/"
        },
        "id": "GytxOficvknm",
        "outputId": "7f63a31f-bf1c-4cfa-fd06-56fdd07eeaaf"
      },
      "source": [
        "type(tuples)"
      ],
      "execution_count": null,
      "outputs": [
        {
          "output_type": "execute_result",
          "data": {
            "text/plain": [
              "tuple"
            ]
          },
          "metadata": {
            "tags": []
          },
          "execution_count": 59
        }
      ]
    },
    {
      "cell_type": "code",
      "metadata": {
        "colab": {
          "base_uri": "https://localhost:8080/"
        },
        "id": "MyoGE6dVvl_z",
        "outputId": "ec0657d6-c5b4-4b3f-c492-d665fc153edb"
      },
      "source": [
        "tuples   # No change can be done"
      ],
      "execution_count": null,
      "outputs": [
        {
          "output_type": "execute_result",
          "data": {
            "text/plain": [
              "('abc', '123', 'xyz')"
            ]
          },
          "metadata": {
            "tags": []
          },
          "execution_count": 60
        }
      ]
    },
    {
      "cell_type": "code",
      "metadata": {
        "colab": {
          "base_uri": "https://localhost:8080/"
        },
        "id": "WjvLC06Rz8X4",
        "outputId": "7f41bb90-4dd4-4b69-87ad-dc4c9bac049c"
      },
      "source": [
        "\"abc\" in tuples"
      ],
      "execution_count": null,
      "outputs": [
        {
          "output_type": "execute_result",
          "data": {
            "text/plain": [
              "True"
            ]
          },
          "metadata": {
            "tags": []
          },
          "execution_count": 61
        }
      ]
    },
    {
      "cell_type": "code",
      "metadata": {
        "colab": {
          "base_uri": "https://localhost:8080/"
        },
        "id": "IGOd2g927WeT",
        "outputId": "3d6635eb-843a-4675-baf1-9ffef9efbd68"
      },
      "source": [
        "# First & Last value \n",
        "tuples[0] , tuples[-1]"
      ],
      "execution_count": null,
      "outputs": [
        {
          "output_type": "execute_result",
          "data": {
            "text/plain": [
              "('abc', 'xyz')"
            ]
          },
          "metadata": {
            "tags": []
          },
          "execution_count": 62
        }
      ]
    },
    {
      "cell_type": "code",
      "metadata": {
        "colab": {
          "base_uri": "https://localhost:8080/"
        },
        "id": "Wz607fPu-dN5",
        "outputId": "f435f42d-0d8b-4137-814b-4ae0e55adbdc"
      },
      "source": [
        "tuples[1:2]"
      ],
      "execution_count": null,
      "outputs": [
        {
          "output_type": "execute_result",
          "data": {
            "text/plain": [
              "('123',)"
            ]
          },
          "metadata": {
            "tags": []
          },
          "execution_count": 63
        }
      ]
    },
    {
      "cell_type": "markdown",
      "metadata": {
        "id": "nSAxaj4m-5bM"
      },
      "source": [
        "All similar to what was done with list but cant be modified !"
      ]
    },
    {
      "cell_type": "code",
      "metadata": {
        "colab": {
          "base_uri": "https://localhost:8080/",
          "height": 163
        },
        "id": "ymLsG56T-_xq",
        "outputId": "65ae5511-3444-4e1e-845a-22cac47d7194"
      },
      "source": [
        "tuples[0] = \"Harsh\""
      ],
      "execution_count": null,
      "outputs": [
        {
          "output_type": "error",
          "ename": "TypeError",
          "evalue": "ignored",
          "traceback": [
            "\u001b[0;31m---------------------------------------------------------------------------\u001b[0m",
            "\u001b[0;31mTypeError\u001b[0m                                 Traceback (most recent call last)",
            "\u001b[0;32m<ipython-input-64-e59aec693986>\u001b[0m in \u001b[0;36m<module>\u001b[0;34m()\u001b[0m\n\u001b[0;32m----> 1\u001b[0;31m \u001b[0mtuples\u001b[0m\u001b[0;34m[\u001b[0m\u001b[0;36m0\u001b[0m\u001b[0;34m]\u001b[0m \u001b[0;34m=\u001b[0m \u001b[0;34m\"Harsh\"\u001b[0m\u001b[0;34m\u001b[0m\u001b[0;34m\u001b[0m\u001b[0m\n\u001b[0m",
            "\u001b[0;31mTypeError\u001b[0m: 'tuple' object does not support item assignment"
          ]
        }
      ]
    },
    {
      "cell_type": "markdown",
      "metadata": {
        "id": "VmP8gXdK_H9v"
      },
      "source": [
        "Then what is the need?\n",
        "- Program execution is fast\n",
        "- Sometimes data is not supposed to be modified: tuple guards accidently modification"
      ]
    },
    {
      "cell_type": "markdown",
      "metadata": {
        "id": "VQguJCrNw4lH"
      },
      "source": [
        "### Range"
      ]
    },
    {
      "cell_type": "code",
      "metadata": {
        "id": "gTeqKAwHvpq3",
        "colab": {
          "base_uri": "https://localhost:8080/"
        },
        "outputId": "c3a8f77c-623b-413d-9708-c5d379c79de9"
      },
      "source": [
        "range_nums = range(0, 10)  # Includes first number, but excludes last number\n",
        "print (range_nums)"
      ],
      "execution_count": null,
      "outputs": [
        {
          "output_type": "stream",
          "text": [
            "range(0, 10)\n"
          ],
          "name": "stdout"
        }
      ]
    },
    {
      "cell_type": "code",
      "metadata": {
        "colab": {
          "base_uri": "https://localhost:8080/"
        },
        "id": "fpt-AYsvxC6N",
        "outputId": "43118d46-235f-4c85-e56e-15748c6bfcb3"
      },
      "source": [
        "for i in range_nums:\n",
        "  print (i)   "
      ],
      "execution_count": null,
      "outputs": [
        {
          "output_type": "stream",
          "text": [
            "0\n",
            "1\n",
            "2\n",
            "3\n",
            "4\n",
            "5\n",
            "6\n",
            "7\n",
            "8\n",
            "9\n"
          ],
          "name": "stdout"
        }
      ]
    },
    {
      "cell_type": "code",
      "metadata": {
        "colab": {
          "base_uri": "https://localhost:8080/"
        },
        "id": "7JOeiKeFrDTG",
        "outputId": "247a874a-48e5-4f90-be2a-c2587b6c8768"
      },
      "source": [
        "range(1,10,3)  # Generates numbers with given space - range(start, stop, step)"
      ],
      "execution_count": null,
      "outputs": [
        {
          "output_type": "execute_result",
          "data": {
            "text/plain": [
              "range(1, 10, 3)"
            ]
          },
          "metadata": {
            "tags": []
          },
          "execution_count": 87
        }
      ]
    },
    {
      "cell_type": "code",
      "metadata": {
        "colab": {
          "base_uri": "https://localhost:8080/"
        },
        "id": "aLnGl1MDrb4m",
        "outputId": "a7c34409-78bb-45f5-ba39-018e17a2d00b"
      },
      "source": [
        "for i in range(1,10,2):\n",
        "  print (i) # with space"
      ],
      "execution_count": null,
      "outputs": [
        {
          "output_type": "stream",
          "text": [
            "1\n",
            "3\n",
            "5\n",
            "7\n",
            "9\n"
          ],
          "name": "stdout"
        }
      ]
    },
    {
      "cell_type": "code",
      "metadata": {
        "colab": {
          "base_uri": "https://localhost:8080/"
        },
        "id": "Ugd4-yAvAgmu",
        "outputId": "99100cba-c1f9-4702-8600-1d0b979f5d47"
      },
      "source": [
        "for i in range(10, -6, -2):   # Includes first number, but excludes last number\n",
        "    print(i, end = \" \")"
      ],
      "execution_count": null,
      "outputs": [
        {
          "output_type": "stream",
          "text": [
            "10 8 6 4 2 0 -2 -4 "
          ],
          "name": "stdout"
        }
      ]
    },
    {
      "cell_type": "markdown",
      "metadata": {
        "id": "cl71f_UvqjKb"
      },
      "source": [
        "### Dictionary"
      ]
    },
    {
      "cell_type": "markdown",
      "metadata": {
        "id": "b6Hh4MHYFF88"
      },
      "source": [
        "**Similar to list:**\n",
        "- Mutable\n",
        "- Dynamic \n",
        "- Nested\n"
      ]
    },
    {
      "cell_type": "markdown",
      "metadata": {
        "id": "aIWl5P4HFe3y"
      },
      "source": [
        "**Differences:**\n",
        "- List can be accessed by index, dict are accessed via keys"
      ]
    },
    {
      "cell_type": "code",
      "metadata": {
        "id": "5GAkRLDmqmwW"
      },
      "source": [
        "dict_sample = {\n",
        "  \"Company\": \"Walmart\",\n",
        "  \"Brand\": \"Cadbury\",\n",
        "  \"Product\": \"Nuts\",\n",
        "  \"Year\": 2020\n",
        "}"
      ],
      "execution_count": null,
      "outputs": []
    },
    {
      "cell_type": "code",
      "metadata": {
        "id": "WILXBgEJFwUw"
      },
      "source": [
        "type(dict_sample)"
      ],
      "execution_count": null,
      "outputs": []
    },
    {
      "cell_type": "code",
      "metadata": {
        "id": "_pLtkWTFF0FD"
      },
      "source": [
        "dict_sample[1]  # cant be accessed by index"
      ],
      "execution_count": null,
      "outputs": []
    },
    {
      "cell_type": "code",
      "metadata": {
        "id": "yZdvS68LsQjG"
      },
      "source": [
        "dict_sample[\"Brand\"]  # Accessing using values"
      ],
      "execution_count": null,
      "outputs": []
    },
    {
      "cell_type": "code",
      "metadata": {
        "id": "arFqXleyFJgI"
      },
      "source": [
        "dict_sample.items()   # All key-value pair"
      ],
      "execution_count": null,
      "outputs": []
    },
    {
      "cell_type": "code",
      "metadata": {
        "id": "rZaAr55MGLpI"
      },
      "source": [
        "dict_sample.keys()    # All keys"
      ],
      "execution_count": null,
      "outputs": []
    },
    {
      "cell_type": "code",
      "metadata": {
        "id": "y1i-MgB9IWXM"
      },
      "source": [
        "dict_sample.values()  # All pairs"
      ],
      "execution_count": null,
      "outputs": []
    },
    {
      "cell_type": "code",
      "metadata": {
        "id": "6shKiESOGYw-"
      },
      "source": [
        "dict_sample[\"Category\"] = \"Chocolate\"  # Add new key-value in dictionary"
      ],
      "execution_count": null,
      "outputs": []
    },
    {
      "cell_type": "code",
      "metadata": {
        "id": "TrqeteNeGkYm"
      },
      "source": [
        "dict_sample"
      ],
      "execution_count": null,
      "outputs": []
    },
    {
      "cell_type": "code",
      "metadata": {
        "id": "-9ncrJTBGwKk"
      },
      "source": [
        "dict_sample[\"Year\"] = 2021  # Replace value in dictionary\n",
        "dict_sample"
      ],
      "execution_count": null,
      "outputs": []
    },
    {
      "cell_type": "markdown",
      "metadata": {
        "id": "ZVBj3zfqHnp1"
      },
      "source": [
        "Restrictions in Dictionary:\n",
        "- Key must appear only one (Duplicates are not allowed)\n"
      ]
    },
    {
      "cell_type": "markdown",
      "metadata": {
        "id": "3bVJVlogsl_2"
      },
      "source": [
        "Set\n",
        "- Set uses {}\n",
        "- List ised []"
      ]
    },
    {
      "cell_type": "code",
      "metadata": {
        "id": "qNLUwzIIsqMp"
      },
      "source": [
        "companies_2019 = {\"Walmart\", \"Mars\", \"Mondelez\", \"Apple\", \"P&G\", \"Target\", \"Zomato\"}\n",
        "companies_2020 = {\"Netflix\", \"Apple\", \"Mars\", \"Zomato\", \"Hotstar\"}"
      ],
      "execution_count": null,
      "outputs": []
    },
    {
      "cell_type": "code",
      "metadata": {
        "id": "OE0WMIOPCNqB"
      },
      "source": [
        "# whom we lost\n",
        "# who are our new customers\n",
        "# who are our loyal customers"
      ],
      "execution_count": null,
      "outputs": []
    },
    {
      "cell_type": "code",
      "metadata": {
        "id": "PYq6be04uANc"
      },
      "source": [
        "lost_customers = companies_2019 - companies_2020\n",
        "lost_customers"
      ],
      "execution_count": null,
      "outputs": []
    },
    {
      "cell_type": "code",
      "metadata": {
        "id": "eqfXPOK0uOf7"
      },
      "source": [
        "new_customers = companies_2020 - companies_2019\n",
        "new_customers"
      ],
      "execution_count": null,
      "outputs": []
    },
    {
      "cell_type": "code",
      "metadata": {
        "id": "_YHGke_wuZrN"
      },
      "source": [
        "loyal_customers = companies_2019 & companies_2020\n",
        "loyal_customers"
      ],
      "execution_count": null,
      "outputs": []
    },
    {
      "cell_type": "markdown",
      "metadata": {
        "id": "QHyYnmqy6gjQ"
      },
      "source": [
        "## For loop"
      ]
    },
    {
      "cell_type": "code",
      "metadata": {
        "id": "lVZXgI9yxHRt"
      },
      "source": [
        "list_of_names"
      ],
      "execution_count": null,
      "outputs": []
    },
    {
      "cell_type": "code",
      "metadata": {
        "id": "gXoRIx2_6pO1"
      },
      "source": [
        "for nam in list_of_names:\n",
        "  print (\"My Team members: \", nam)"
      ],
      "execution_count": null,
      "outputs": []
    },
    {
      "cell_type": "code",
      "metadata": {
        "id": "-Hs3F1SE6wqJ"
      },
      "source": [
        "print (\"My team members:\")\n",
        "for nam in list_of_names:\n",
        "  print (nam)"
      ],
      "execution_count": null,
      "outputs": []
    },
    {
      "cell_type": "markdown",
      "metadata": {
        "id": "6cmlP7JT7K4e"
      },
      "source": [
        "## While loop"
      ]
    },
    {
      "cell_type": "code",
      "metadata": {
        "id": "fFvJm16M64iv"
      },
      "source": [
        "i = 1\n",
        "while i < 6:\n",
        "  print(i)\n",
        "  i += 1   # i = i + 1"
      ],
      "execution_count": null,
      "outputs": []
    },
    {
      "cell_type": "code",
      "metadata": {
        "id": "a6ocvBy67bND"
      },
      "source": [
        "temp = 80\n",
        "while temp > 75:\n",
        "  temp = temp - 1\n",
        "  print (temp)"
      ],
      "execution_count": null,
      "outputs": []
    },
    {
      "cell_type": "markdown",
      "metadata": {
        "id": "H0D9wEQr479p"
      },
      "source": [
        "### If else"
      ]
    },
    {
      "cell_type": "code",
      "metadata": {
        "id": "ORwBhx084_Dn"
      },
      "source": [
        "marks = 82"
      ],
      "execution_count": null,
      "outputs": []
    },
    {
      "cell_type": "code",
      "metadata": {
        "id": "9Rp6gt9c5BEU"
      },
      "source": [
        "if marks > 90:\n",
        "  print (\"A\")\n",
        "else:\n",
        "  print (\"B\")"
      ],
      "execution_count": null,
      "outputs": []
    },
    {
      "cell_type": "code",
      "metadata": {
        "id": "lGeQwA0JA9Nq"
      },
      "source": [
        "# Task\n",
        "# If marks are > 90 then print A, if marks are > 75 but less than 90 then print B, else print C"
      ],
      "execution_count": null,
      "outputs": []
    },
    {
      "cell_type": "code",
      "metadata": {
        "id": "m5EJ_pIk5SWV"
      },
      "source": [
        "if marks > 90:\n",
        "  print (\"A\")\n",
        "elif 75 < marks < 90:\n",
        "  print (\"B\")\n",
        "else:\n",
        "  print (\"C\")"
      ],
      "execution_count": null,
      "outputs": []
    },
    {
      "cell_type": "code",
      "metadata": {
        "id": "xyLLAx_3AQlR"
      },
      "source": [
        "# Task\n",
        "# Age < 18 : No Vaccine, Age >= 18 & Age <= 60: Eligible for vaccine, Age > 60 Needs to be ckecked by doctor"
      ],
      "execution_count": null,
      "outputs": []
    },
    {
      "cell_type": "code",
      "metadata": {
        "id": "3XnKlifMB1Ax"
      },
      "source": [
        "age = 15"
      ],
      "execution_count": null,
      "outputs": []
    },
    {
      "cell_type": "code",
      "metadata": {
        "id": "OdFXpyjIBLxK"
      },
      "source": [
        "if (age < 18): \n",
        "  print (\"No vaccine\")\n",
        "elif age >= 18 and age <= 60:\n",
        "  print (\"Eligible for vaccine\")\n",
        "else:\n",
        "  print (\"Needs to be checked by Doctor\")"
      ],
      "execution_count": null,
      "outputs": []
    },
    {
      "cell_type": "markdown",
      "metadata": {
        "id": "DBJFOWdMYzEv"
      },
      "source": [
        "### User Defined functions\n",
        "\n",
        "- def function name():\n",
        "-   operations to be done\n",
        "-   return variable"
      ]
    },
    {
      "cell_type": "markdown",
      "metadata": {
        "id": "GZhYi9kpO2kf"
      },
      "source": [
        "Convert float number to integer using UDF"
      ]
    },
    {
      "cell_type": "code",
      "metadata": {
        "id": "dsWP1ey97DVv"
      },
      "source": [
        "def num_to_int(num):\n",
        "  int_num = int(num)\n",
        "  return int_num"
      ],
      "execution_count": null,
      "outputs": []
    },
    {
      "cell_type": "code",
      "metadata": {
        "id": "6lU4szl-aDcF"
      },
      "source": [
        "num_to_int(num = 7.67)"
      ],
      "execution_count": null,
      "outputs": []
    },
    {
      "cell_type": "markdown",
      "metadata": {
        "id": "_QcILsXePAs2"
      },
      "source": [
        "Task : Create a UDF to add 2 numbers and multiply it by 10"
      ]
    },
    {
      "cell_type": "code",
      "metadata": {
        "id": "qc3TquFD-ghD"
      },
      "source": [
        "def add_multi(n1 , n2):\n",
        "  sum = n1  + n2\n",
        "  final = sum * 10\n",
        "  return final"
      ],
      "execution_count": null,
      "outputs": []
    },
    {
      "cell_type": "code",
      "metadata": {
        "id": "6MtEymaF_JmE"
      },
      "source": [
        "add_multi(n1 = 3, n2 = 4)"
      ],
      "execution_count": null,
      "outputs": []
    },
    {
      "cell_type": "markdown",
      "metadata": {
        "id": "I6-lbe2WPI38"
      },
      "source": [
        "If unwanted inputs came up?"
      ]
    },
    {
      "cell_type": "code",
      "metadata": {
        "id": "0V9uLm0MPSYs"
      },
      "source": [
        "add_multi(-t, 5)"
      ],
      "execution_count": null,
      "outputs": []
    },
    {
      "cell_type": "code",
      "metadata": {
        "id": "asmZQ9agaKU7"
      },
      "source": [
        "num_to_int(\"hjh\")"
      ],
      "execution_count": null,
      "outputs": []
    },
    {
      "cell_type": "markdown",
      "metadata": {
        "id": "YKe9LjwKw6nJ"
      },
      "source": [
        "### Error Handling\n",
        "- Using try & except"
      ]
    },
    {
      "cell_type": "code",
      "metadata": {
        "id": "79NCvvy1c9Qo"
      },
      "source": [
        "def num_to_int(num):\n",
        "  try:\n",
        "    int_num = int(num)\n",
        "    return int_num\n",
        "  except ValueError:\n",
        "    print (\"Check your input: \", num) \n"
      ],
      "execution_count": null,
      "outputs": []
    },
    {
      "cell_type": "code",
      "metadata": {
        "id": "iFMSmE_4eR9W"
      },
      "source": [
        "num_to_int(\"vjdj\")"
      ],
      "execution_count": null,
      "outputs": []
    },
    {
      "cell_type": "markdown",
      "metadata": {
        "id": "sYxobhwBv--E"
      },
      "source": [
        "### User Input"
      ]
    },
    {
      "cell_type": "code",
      "metadata": {
        "id": "68Y0c4sMwBR-"
      },
      "source": [
        "name = input(\"What's your name: \")"
      ],
      "execution_count": null,
      "outputs": []
    },
    {
      "cell_type": "code",
      "metadata": {
        "id": "MoGKW-bswNbZ"
      },
      "source": [
        "print (\"Hello, \" + name + \"!\")"
      ],
      "execution_count": null,
      "outputs": []
    },
    {
      "cell_type": "code",
      "metadata": {
        "id": "w7-KXGEVwX-C"
      },
      "source": [
        "age = input(\"What's your age: \")"
      ],
      "execution_count": null,
      "outputs": []
    },
    {
      "cell_type": "code",
      "metadata": {
        "id": "tms8AiPOxl6w"
      },
      "source": [
        "age = int(age)\n",
        "if (age < 18): \n",
        "  print (\"Sorry, you can't take No vaccine\")\n",
        "elif age >= 18 and age <= 60:\n",
        "  print (\"Congo! You are eligible for vaccine\")\n",
        "else:\n",
        "  print (\"Hey!, you need to be checked by Doctor\")"
      ],
      "execution_count": null,
      "outputs": []
    },
    {
      "cell_type": "code",
      "metadata": {
        "id": "v3ve3yzdx5H-"
      },
      "source": [
        ""
      ],
      "execution_count": null,
      "outputs": []
    }
  ]
}